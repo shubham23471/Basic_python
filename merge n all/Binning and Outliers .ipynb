{
 "cells": [
  {
   "cell_type": "code",
   "execution_count": 2,
   "metadata": {},
   "outputs": [],
   "source": [
    "import pandas as pd \n",
    "import numpy as np \n",
    "from pandas import Series,DataFrame"
   ]
  },
  {
   "cell_type": "code",
   "execution_count": 3,
   "metadata": {},
   "outputs": [],
   "source": [
    "data = np.random.randn(20)"
   ]
  },
  {
   "cell_type": "code",
   "execution_count": 4,
   "metadata": {},
   "outputs": [
    {
     "data": {
      "text/plain": [
       "array([ 1.26324841, -0.68886546, -0.08484776, -0.98775576, -0.29123343,\n",
       "        0.33801163, -0.05855325, -0.24020303,  1.52772429, -1.05084021,\n",
       "        1.13299706,  0.41662334,  0.01568937,  0.701056  ,  1.10565943,\n",
       "        0.50761252, -0.359546  ,  2.02383406, -0.30724906,  0.07347159])"
      ]
     },
     "execution_count": 4,
     "metadata": {},
     "output_type": "execute_result"
    }
   ],
   "source": [
    "data"
   ]
  },
  {
   "cell_type": "code",
   "execution_count": 9,
   "metadata": {},
   "outputs": [
    {
     "data": {
      "text/plain": [
       "[(1.26, 2.02], (-1.05, -0.28], (-0.28, 0.49], (-1.05, -0.28], (-1.05, -0.28], ..., (0.49, 1.26], (-1.05, -0.28], (1.26, 2.02], (-1.05, -0.28], (-0.28, 0.49]]\n",
       "Length: 20\n",
       "Categories (4, interval[float64]): [(-1.05, -0.28] < (-0.28, 0.49] < (0.49, 1.26] < (1.26, 2.02]]"
      ]
     },
     "execution_count": 9,
     "metadata": {},
     "output_type": "execute_result"
    }
   ],
   "source": [
    "data_cat = pd.cut(data,4,precision=2)\n",
    "data_cat"
   ]
  },
  {
   "cell_type": "code",
   "execution_count": 10,
   "metadata": {},
   "outputs": [
    {
     "data": {
      "text/plain": [
       "(-0.28, 0.49]     7\n",
       "(-1.05, -0.28]    6\n",
       "(0.49, 1.26]      4\n",
       "(1.26, 2.02]      3\n",
       "dtype: int64"
      ]
     },
     "execution_count": 10,
     "metadata": {},
     "output_type": "execute_result"
    }
   ],
   "source": [
    "pd.value_counts(data_cat)"
   ]
  },
  {
   "cell_type": "code",
   "execution_count": 11,
   "metadata": {},
   "outputs": [],
   "source": [
    " # to divide equal data in each bin we use qcut "
   ]
  },
  {
   "cell_type": "code",
   "execution_count": 14,
   "metadata": {},
   "outputs": [
    {
     "data": {
      "text/plain": [
       "[(0.8, 2.02], (-1.06, -0.3], (-0.3, 0.045], (-1.06, -0.3], (-0.3, 0.045], ..., (0.045, 0.8], (-1.06, -0.3], (0.8, 2.02], (-1.06, -0.3], (0.045, 0.8]]\n",
       "Length: 20\n",
       "Categories (4, interval[float64]): [(-1.06, -0.3] < (-0.3, 0.045] < (0.045, 0.8] < (0.8, 2.02]]"
      ]
     },
     "execution_count": 14,
     "metadata": {},
     "output_type": "execute_result"
    }
   ],
   "source": [
    "result_qcut =   pd.qcut(data,4,precision=2)\n",
    "result_qcut"
   ]
  },
  {
   "cell_type": "code",
   "execution_count": 16,
   "metadata": {},
   "outputs": [
    {
     "data": {
      "text/plain": [
       "(0.8, 2.02]      5\n",
       "(0.045, 0.8]     5\n",
       "(-0.3, 0.045]    5\n",
       "(-1.06, -0.3]    5\n",
       "dtype: int64"
      ]
     },
     "execution_count": 16,
     "metadata": {},
     "output_type": "execute_result"
    }
   ],
   "source": [
    "pd.value_counts(result_qcut)"
   ]
  },
  {
   "cell_type": "code",
   "execution_count": null,
   "metadata": {},
   "outputs": [],
   "source": []
  }
 ],
 "metadata": {
  "kernelspec": {
   "display_name": "Python 3",
   "language": "python",
   "name": "python3"
  },
  "language_info": {
   "codemirror_mode": {
    "name": "ipython",
    "version": 3
   },
   "file_extension": ".py",
   "mimetype": "text/x-python",
   "name": "python",
   "nbconvert_exporter": "python",
   "pygments_lexer": "ipython3",
   "version": "3.6.4"
  }
 },
 "nbformat": 4,
 "nbformat_minor": 2
}
