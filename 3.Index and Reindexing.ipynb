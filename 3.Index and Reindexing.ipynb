{
 "cells": [
  {
   "cell_type": "code",
   "execution_count": 1,
   "metadata": {},
   "outputs": [],
   "source": [
    "import pandas as pd \n",
    "import numpy as np\n",
    "from pandas import Series,DataFrame"
   ]
  },
  {
   "cell_type": "code",
   "execution_count": 2,
   "metadata": {},
   "outputs": [],
   "source": [
    "df = DataFrame(np.arange(4),index=list('abcd'))"
   ]
  },
  {
   "cell_type": "code",
   "execution_count": 3,
   "metadata": {},
   "outputs": [
    {
     "data": {
      "text/html": [
       "<div>\n",
       "<style scoped>\n",
       "    .dataframe tbody tr th:only-of-type {\n",
       "        vertical-align: middle;\n",
       "    }\n",
       "\n",
       "    .dataframe tbody tr th {\n",
       "        vertical-align: top;\n",
       "    }\n",
       "\n",
       "    .dataframe thead th {\n",
       "        text-align: right;\n",
       "    }\n",
       "</style>\n",
       "<table border=\"1\" class=\"dataframe\">\n",
       "  <thead>\n",
       "    <tr style=\"text-align: right;\">\n",
       "      <th></th>\n",
       "      <th>0</th>\n",
       "    </tr>\n",
       "  </thead>\n",
       "  <tbody>\n",
       "    <tr>\n",
       "      <th>a</th>\n",
       "      <td>0</td>\n",
       "    </tr>\n",
       "    <tr>\n",
       "      <th>b</th>\n",
       "      <td>1</td>\n",
       "    </tr>\n",
       "    <tr>\n",
       "      <th>c</th>\n",
       "      <td>2</td>\n",
       "    </tr>\n",
       "    <tr>\n",
       "      <th>d</th>\n",
       "      <td>3</td>\n",
       "    </tr>\n",
       "  </tbody>\n",
       "</table>\n",
       "</div>"
      ],
      "text/plain": [
       "   0\n",
       "a  0\n",
       "b  1\n",
       "c  2\n",
       "d  3"
      ]
     },
     "execution_count": 3,
     "metadata": {},
     "output_type": "execute_result"
    }
   ],
   "source": [
    "df"
   ]
  },
  {
   "cell_type": "code",
   "execution_count": 4,
   "metadata": {},
   "outputs": [
    {
     "data": {
      "text/plain": [
       "Index(['a', 'b', 'c', 'd'], dtype='object')"
      ]
     },
     "execution_count": 4,
     "metadata": {},
     "output_type": "execute_result"
    }
   ],
   "source": [
    "df.index"
   ]
  },
  {
   "cell_type": "code",
   "execution_count": 5,
   "metadata": {},
   "outputs": [
    {
     "data": {
      "text/plain": [
       "'c'"
      ]
     },
     "execution_count": 5,
     "metadata": {},
     "output_type": "execute_result"
    }
   ],
   "source": [
    "df.index[2]"
   ]
  },
  {
   "cell_type": "code",
   "execution_count": 6,
   "metadata": {},
   "outputs": [
    {
     "data": {
      "text/plain": [
       "True"
      ]
     },
     "execution_count": 6,
     "metadata": {},
     "output_type": "execute_result"
    }
   ],
   "source": [
    "'a' in df.index"
   ]
  },
  {
   "cell_type": "code",
   "execution_count": 7,
   "metadata": {},
   "outputs": [
    {
     "data": {
      "text/plain": [
       "False"
      ]
     },
     "execution_count": 7,
     "metadata": {},
     "output_type": "execute_result"
    }
   ],
   "source": [
    "df.index.has_duplicates"
   ]
  },
  {
   "cell_type": "code",
   "execution_count": null,
   "metadata": {
    "collapsed": true
   },
   "outputs": [],
   "source": []
  },
  {
   "cell_type": "code",
   "execution_count": null,
   "metadata": {
    "collapsed": true
   },
   "outputs": [],
   "source": []
  },
  {
   "cell_type": "markdown",
   "metadata": {},
   "source": [
    "# ReIndexing on series "
   ]
  },
  {
   "cell_type": "code",
   "execution_count": 8,
   "metadata": {},
   "outputs": [
    {
     "data": {
      "text/plain": [
       "A     21\n",
       "B      3\n",
       "C      3\n",
       "D    435\n",
       "dtype: int64"
      ]
     },
     "execution_count": 8,
     "metadata": {},
     "output_type": "execute_result"
    }
   ],
   "source": [
    "ser_1 = Series([21,3,3,435],index=['A','B','C','D'])\n",
    "\n",
    "ser_1"
   ]
  },
  {
   "cell_type": "code",
   "execution_count": 9,
   "metadata": {},
   "outputs": [
    {
     "data": {
      "text/plain": [
       "A     21.0\n",
       "B      3.0\n",
       "C      3.0\n",
       "D    435.0\n",
       "E      NaN\n",
       "dtype: float64"
      ]
     },
     "execution_count": 9,
     "metadata": {},
     "output_type": "execute_result"
    }
   ],
   "source": [
    "# Let's reindex\n",
    "ser_1 = ser_1.reindex(['A','B','C','D','E'])\n",
    "ser_1"
   ]
  },
  {
   "cell_type": "code",
   "execution_count": 10,
   "metadata": {},
   "outputs": [
    {
     "data": {
      "text/plain": [
       "A     21.0\n",
       "B      3.0\n",
       "C      3.0\n",
       "D    435.0\n",
       "E      NaN\n",
       "F      0.0\n",
       "G      0.0\n",
       "dtype: float64"
      ]
     },
     "execution_count": 10,
     "metadata": {},
     "output_type": "execute_result"
    }
   ],
   "source": [
    "ser_1 = ser_1.reindex(['A','B','C','D','E','F','G'],fill_value=0)  # if y\n",
    "ser_1"
   ]
  },
  {
   "cell_type": "markdown",
   "metadata": {},
   "source": [
    "# Reindexing on DataFrame"
   ]
  },
  {
   "cell_type": "code",
   "execution_count": 11,
   "metadata": {},
   "outputs": [
    {
     "data": {
      "text/html": [
       "<div>\n",
       "<style>\n",
       "    .dataframe thead tr:only-child th {\n",
       "        text-align: right;\n",
       "    }\n",
       "\n",
       "    .dataframe thead th {\n",
       "        text-align: left;\n",
       "    }\n",
       "\n",
       "    .dataframe tbody tr th {\n",
       "        vertical-align: top;\n",
       "    }\n",
       "</style>\n",
       "<table border=\"1\" class=\"dataframe\">\n",
       "  <thead>\n",
       "    <tr style=\"text-align: right;\">\n",
       "      <th></th>\n",
       "      <th>col1</th>\n",
       "      <th>col2</th>\n",
       "      <th>col3</th>\n",
       "      <th>col4</th>\n",
       "      <th>col5</th>\n",
       "    </tr>\n",
       "  </thead>\n",
       "  <tbody>\n",
       "    <tr>\n",
       "      <th>a</th>\n",
       "      <td>0.982448</td>\n",
       "      <td>-1.555606</td>\n",
       "      <td>0.350325</td>\n",
       "      <td>0.420281</td>\n",
       "      <td>0.483136</td>\n",
       "    </tr>\n",
       "    <tr>\n",
       "      <th>b</th>\n",
       "      <td>-0.331550</td>\n",
       "      <td>0.708939</td>\n",
       "      <td>-1.202948</td>\n",
       "      <td>-0.112843</td>\n",
       "      <td>-0.540862</td>\n",
       "    </tr>\n",
       "    <tr>\n",
       "      <th>c</th>\n",
       "      <td>0.444878</td>\n",
       "      <td>-0.510774</td>\n",
       "      <td>-0.577179</td>\n",
       "      <td>0.000493</td>\n",
       "      <td>2.138209</td>\n",
       "    </tr>\n",
       "    <tr>\n",
       "      <th>d</th>\n",
       "      <td>0.137110</td>\n",
       "      <td>-0.464989</td>\n",
       "      <td>-0.578659</td>\n",
       "      <td>0.513150</td>\n",
       "      <td>0.962889</td>\n",
       "    </tr>\n",
       "    <tr>\n",
       "      <th>e</th>\n",
       "      <td>1.270276</td>\n",
       "      <td>-0.636281</td>\n",
       "      <td>-0.473939</td>\n",
       "      <td>0.573955</td>\n",
       "      <td>-0.990352</td>\n",
       "    </tr>\n",
       "  </tbody>\n",
       "</table>\n",
       "</div>"
      ],
      "text/plain": [
       "       col1      col2      col3      col4      col5\n",
       "a  0.982448 -1.555606  0.350325  0.420281  0.483136\n",
       "b -0.331550  0.708939 -1.202948 -0.112843 -0.540862\n",
       "c  0.444878 -0.510774 -0.577179  0.000493  2.138209\n",
       "d  0.137110 -0.464989 -0.578659  0.513150  0.962889\n",
       "e  1.270276 -0.636281 -0.473939  0.573955 -0.990352"
      ]
     },
     "execution_count": 11,
     "metadata": {},
     "output_type": "execute_result"
    }
   ],
   "source": [
    "dframe = DataFrame(np.random.randn(25).reshape((5,5)),\n",
    "                  index= ['a','b','c','d','e'],\n",
    "                  columns=['col1','col2','col3','col4','col5'])\n",
    "\n",
    "dframe"
   ]
  },
  {
   "cell_type": "code",
   "execution_count": 12,
   "metadata": {},
   "outputs": [
    {
     "data": {
      "text/html": [
       "<div>\n",
       "<style>\n",
       "    .dataframe thead tr:only-child th {\n",
       "        text-align: right;\n",
       "    }\n",
       "\n",
       "    .dataframe thead th {\n",
       "        text-align: left;\n",
       "    }\n",
       "\n",
       "    .dataframe tbody tr th {\n",
       "        vertical-align: top;\n",
       "    }\n",
       "</style>\n",
       "<table border=\"1\" class=\"dataframe\">\n",
       "  <thead>\n",
       "    <tr style=\"text-align: right;\">\n",
       "      <th></th>\n",
       "      <th>col1</th>\n",
       "      <th>col2</th>\n",
       "      <th>col3</th>\n",
       "      <th>col4</th>\n",
       "      <th>col5</th>\n",
       "    </tr>\n",
       "  </thead>\n",
       "  <tbody>\n",
       "    <tr>\n",
       "      <th>a</th>\n",
       "      <td>0.982448</td>\n",
       "      <td>-1.555606</td>\n",
       "      <td>0.350325</td>\n",
       "      <td>0.420281</td>\n",
       "      <td>0.483136</td>\n",
       "    </tr>\n",
       "    <tr>\n",
       "      <th>b</th>\n",
       "      <td>-0.331550</td>\n",
       "      <td>0.708939</td>\n",
       "      <td>-1.202948</td>\n",
       "      <td>-0.112843</td>\n",
       "      <td>-0.540862</td>\n",
       "    </tr>\n",
       "    <tr>\n",
       "      <th>c</th>\n",
       "      <td>0.444878</td>\n",
       "      <td>-0.510774</td>\n",
       "      <td>-0.577179</td>\n",
       "      <td>0.000493</td>\n",
       "      <td>2.138209</td>\n",
       "    </tr>\n",
       "    <tr>\n",
       "      <th>d</th>\n",
       "      <td>0.137110</td>\n",
       "      <td>-0.464989</td>\n",
       "      <td>-0.578659</td>\n",
       "      <td>0.513150</td>\n",
       "      <td>0.962889</td>\n",
       "    </tr>\n",
       "    <tr>\n",
       "      <th>e</th>\n",
       "      <td>1.270276</td>\n",
       "      <td>-0.636281</td>\n",
       "      <td>-0.473939</td>\n",
       "      <td>0.573955</td>\n",
       "      <td>-0.990352</td>\n",
       "    </tr>\n",
       "    <tr>\n",
       "      <th>f</th>\n",
       "      <td>NaN</td>\n",
       "      <td>NaN</td>\n",
       "      <td>NaN</td>\n",
       "      <td>NaN</td>\n",
       "      <td>NaN</td>\n",
       "    </tr>\n",
       "  </tbody>\n",
       "</table>\n",
       "</div>"
      ],
      "text/plain": [
       "       col1      col2      col3      col4      col5\n",
       "a  0.982448 -1.555606  0.350325  0.420281  0.483136\n",
       "b -0.331550  0.708939 -1.202948 -0.112843 -0.540862\n",
       "c  0.444878 -0.510774 -0.577179  0.000493  2.138209\n",
       "d  0.137110 -0.464989 -0.578659  0.513150  0.962889\n",
       "e  1.270276 -0.636281 -0.473939  0.573955 -0.990352\n",
       "f       NaN       NaN       NaN       NaN       NaN"
      ]
     },
     "execution_count": 12,
     "metadata": {},
     "output_type": "execute_result"
    }
   ],
   "source": [
    "# reindexing on axis 0 (on index)\n",
    "\n",
    "dframe.reindex(index=['a','b','c','d','e','f'])"
   ]
  },
  {
   "cell_type": "code",
   "execution_count": 13,
   "metadata": {},
   "outputs": [
    {
     "data": {
      "text/html": [
       "<div>\n",
       "<style>\n",
       "    .dataframe thead tr:only-child th {\n",
       "        text-align: right;\n",
       "    }\n",
       "\n",
       "    .dataframe thead th {\n",
       "        text-align: left;\n",
       "    }\n",
       "\n",
       "    .dataframe tbody tr th {\n",
       "        vertical-align: top;\n",
       "    }\n",
       "</style>\n",
       "<table border=\"1\" class=\"dataframe\">\n",
       "  <thead>\n",
       "    <tr style=\"text-align: right;\">\n",
       "      <th></th>\n",
       "      <th>col1</th>\n",
       "      <th>col2</th>\n",
       "      <th>col3</th>\n",
       "      <th>col4</th>\n",
       "      <th>col5</th>\n",
       "      <th>col6</th>\n",
       "    </tr>\n",
       "  </thead>\n",
       "  <tbody>\n",
       "    <tr>\n",
       "      <th>a</th>\n",
       "      <td>0.982448</td>\n",
       "      <td>-1.555606</td>\n",
       "      <td>0.350325</td>\n",
       "      <td>0.420281</td>\n",
       "      <td>0.483136</td>\n",
       "      <td>NaN</td>\n",
       "    </tr>\n",
       "    <tr>\n",
       "      <th>b</th>\n",
       "      <td>-0.331550</td>\n",
       "      <td>0.708939</td>\n",
       "      <td>-1.202948</td>\n",
       "      <td>-0.112843</td>\n",
       "      <td>-0.540862</td>\n",
       "      <td>NaN</td>\n",
       "    </tr>\n",
       "    <tr>\n",
       "      <th>c</th>\n",
       "      <td>0.444878</td>\n",
       "      <td>-0.510774</td>\n",
       "      <td>-0.577179</td>\n",
       "      <td>0.000493</td>\n",
       "      <td>2.138209</td>\n",
       "      <td>NaN</td>\n",
       "    </tr>\n",
       "    <tr>\n",
       "      <th>d</th>\n",
       "      <td>0.137110</td>\n",
       "      <td>-0.464989</td>\n",
       "      <td>-0.578659</td>\n",
       "      <td>0.513150</td>\n",
       "      <td>0.962889</td>\n",
       "      <td>NaN</td>\n",
       "    </tr>\n",
       "    <tr>\n",
       "      <th>e</th>\n",
       "      <td>1.270276</td>\n",
       "      <td>-0.636281</td>\n",
       "      <td>-0.473939</td>\n",
       "      <td>0.573955</td>\n",
       "      <td>-0.990352</td>\n",
       "      <td>NaN</td>\n",
       "    </tr>\n",
       "  </tbody>\n",
       "</table>\n",
       "</div>"
      ],
      "text/plain": [
       "       col1      col2      col3      col4      col5  col6\n",
       "a  0.982448 -1.555606  0.350325  0.420281  0.483136   NaN\n",
       "b -0.331550  0.708939 -1.202948 -0.112843 -0.540862   NaN\n",
       "c  0.444878 -0.510774 -0.577179  0.000493  2.138209   NaN\n",
       "d  0.137110 -0.464989 -0.578659  0.513150  0.962889   NaN\n",
       "e  1.270276 -0.636281 -0.473939  0.573955 -0.990352   NaN"
      ]
     },
     "execution_count": 13,
     "metadata": {},
     "output_type": "execute_result"
    }
   ],
   "source": [
    "# reindexing in axis 1 (on column)\n",
    "\n",
    "dframe.reindex(columns=['col1','col2','col3','col4','col5','col6'])"
   ]
  },
  {
   "cell_type": "markdown",
   "metadata": {},
   "source": [
    "If you want to reindex both columns and rows all at once"
   ]
  },
  {
   "cell_type": "code",
   "execution_count": 14,
   "metadata": {},
   "outputs": [
    {
     "name": "stderr",
     "output_type": "stream",
     "text": [
      "C:\\Users\\shubham\\Anaconda3\\lib\\site-packages\\ipykernel_launcher.py:1: DeprecationWarning: \n",
      ".ix is deprecated. Please use\n",
      ".loc for label based indexing or\n",
      ".iloc for positional indexing\n",
      "\n",
      "See the documentation here:\n",
      "http://pandas.pydata.org/pandas-docs/stable/indexing.html#ix-indexer-is-deprecated\n",
      "  \"\"\"Entry point for launching an IPython kernel.\n"
     ]
    },
    {
     "data": {
      "text/html": [
       "<div>\n",
       "<style>\n",
       "    .dataframe thead tr:only-child th {\n",
       "        text-align: right;\n",
       "    }\n",
       "\n",
       "    .dataframe thead th {\n",
       "        text-align: left;\n",
       "    }\n",
       "\n",
       "    .dataframe tbody tr th {\n",
       "        vertical-align: top;\n",
       "    }\n",
       "</style>\n",
       "<table border=\"1\" class=\"dataframe\">\n",
       "  <thead>\n",
       "    <tr style=\"text-align: right;\">\n",
       "      <th></th>\n",
       "      <th>col1</th>\n",
       "      <th>col2</th>\n",
       "      <th>col3</th>\n",
       "      <th>col4</th>\n",
       "      <th>col5</th>\n",
       "      <th>col6</th>\n",
       "    </tr>\n",
       "  </thead>\n",
       "  <tbody>\n",
       "    <tr>\n",
       "      <th>a</th>\n",
       "      <td>0.982448</td>\n",
       "      <td>-1.555606</td>\n",
       "      <td>0.350325</td>\n",
       "      <td>0.420281</td>\n",
       "      <td>0.483136</td>\n",
       "      <td>NaN</td>\n",
       "    </tr>\n",
       "    <tr>\n",
       "      <th>b</th>\n",
       "      <td>-0.331550</td>\n",
       "      <td>0.708939</td>\n",
       "      <td>-1.202948</td>\n",
       "      <td>-0.112843</td>\n",
       "      <td>-0.540862</td>\n",
       "      <td>NaN</td>\n",
       "    </tr>\n",
       "    <tr>\n",
       "      <th>c</th>\n",
       "      <td>0.444878</td>\n",
       "      <td>-0.510774</td>\n",
       "      <td>-0.577179</td>\n",
       "      <td>0.000493</td>\n",
       "      <td>2.138209</td>\n",
       "      <td>NaN</td>\n",
       "    </tr>\n",
       "    <tr>\n",
       "      <th>d</th>\n",
       "      <td>0.137110</td>\n",
       "      <td>-0.464989</td>\n",
       "      <td>-0.578659</td>\n",
       "      <td>0.513150</td>\n",
       "      <td>0.962889</td>\n",
       "      <td>NaN</td>\n",
       "    </tr>\n",
       "    <tr>\n",
       "      <th>e</th>\n",
       "      <td>1.270276</td>\n",
       "      <td>-0.636281</td>\n",
       "      <td>-0.473939</td>\n",
       "      <td>0.573955</td>\n",
       "      <td>-0.990352</td>\n",
       "      <td>NaN</td>\n",
       "    </tr>\n",
       "    <tr>\n",
       "      <th>f</th>\n",
       "      <td>NaN</td>\n",
       "      <td>NaN</td>\n",
       "      <td>NaN</td>\n",
       "      <td>NaN</td>\n",
       "      <td>NaN</td>\n",
       "      <td>NaN</td>\n",
       "    </tr>\n",
       "  </tbody>\n",
       "</table>\n",
       "</div>"
      ],
      "text/plain": [
       "       col1      col2      col3      col4      col5  col6\n",
       "a  0.982448 -1.555606  0.350325  0.420281  0.483136   NaN\n",
       "b -0.331550  0.708939 -1.202948 -0.112843 -0.540862   NaN\n",
       "c  0.444878 -0.510774 -0.577179  0.000493  2.138209   NaN\n",
       "d  0.137110 -0.464989 -0.578659  0.513150  0.962889   NaN\n",
       "e  1.270276 -0.636281 -0.473939  0.573955 -0.990352   NaN\n",
       "f       NaN       NaN       NaN       NaN       NaN   NaN"
      ]
     },
     "execution_count": 14,
     "metadata": {},
     "output_type": "execute_result"
    }
   ],
   "source": [
    "dframe.ix[['a','b','c','d','e','f'],\n",
    "            ['col1','col2','col3','col4','col5','col6']]"
   ]
  },
  {
   "cell_type": "markdown",
   "metadata": {
    "collapsed": true
   },
   "source": [
    "                                            DROP ENTRIES"
   ]
  },
  {
   "cell_type": "code",
   "execution_count": 15,
   "metadata": {},
   "outputs": [
    {
     "data": {
      "text/html": [
       "<div>\n",
       "<style>\n",
       "    .dataframe thead tr:only-child th {\n",
       "        text-align: right;\n",
       "    }\n",
       "\n",
       "    .dataframe thead th {\n",
       "        text-align: left;\n",
       "    }\n",
       "\n",
       "    .dataframe tbody tr th {\n",
       "        vertical-align: top;\n",
       "    }\n",
       "</style>\n",
       "<table border=\"1\" class=\"dataframe\">\n",
       "  <thead>\n",
       "    <tr style=\"text-align: right;\">\n",
       "      <th></th>\n",
       "      <th>col1</th>\n",
       "      <th>col2</th>\n",
       "      <th>col3</th>\n",
       "      <th>col4</th>\n",
       "      <th>col5</th>\n",
       "    </tr>\n",
       "  </thead>\n",
       "  <tbody>\n",
       "    <tr>\n",
       "      <th>a</th>\n",
       "      <td>0.982448</td>\n",
       "      <td>-1.555606</td>\n",
       "      <td>0.350325</td>\n",
       "      <td>0.420281</td>\n",
       "      <td>0.483136</td>\n",
       "    </tr>\n",
       "    <tr>\n",
       "      <th>b</th>\n",
       "      <td>-0.331550</td>\n",
       "      <td>0.708939</td>\n",
       "      <td>-1.202948</td>\n",
       "      <td>-0.112843</td>\n",
       "      <td>-0.540862</td>\n",
       "    </tr>\n",
       "    <tr>\n",
       "      <th>c</th>\n",
       "      <td>0.444878</td>\n",
       "      <td>-0.510774</td>\n",
       "      <td>-0.577179</td>\n",
       "      <td>0.000493</td>\n",
       "      <td>2.138209</td>\n",
       "    </tr>\n",
       "    <tr>\n",
       "      <th>d</th>\n",
       "      <td>0.137110</td>\n",
       "      <td>-0.464989</td>\n",
       "      <td>-0.578659</td>\n",
       "      <td>0.513150</td>\n",
       "      <td>0.962889</td>\n",
       "    </tr>\n",
       "    <tr>\n",
       "      <th>e</th>\n",
       "      <td>1.270276</td>\n",
       "      <td>-0.636281</td>\n",
       "      <td>-0.473939</td>\n",
       "      <td>0.573955</td>\n",
       "      <td>-0.990352</td>\n",
       "    </tr>\n",
       "  </tbody>\n",
       "</table>\n",
       "</div>"
      ],
      "text/plain": [
       "       col1      col2      col3      col4      col5\n",
       "a  0.982448 -1.555606  0.350325  0.420281  0.483136\n",
       "b -0.331550  0.708939 -1.202948 -0.112843 -0.540862\n",
       "c  0.444878 -0.510774 -0.577179  0.000493  2.138209\n",
       "d  0.137110 -0.464989 -0.578659  0.513150  0.962889\n",
       "e  1.270276 -0.636281 -0.473939  0.573955 -0.990352"
      ]
     },
     "execution_count": 15,
     "metadata": {},
     "output_type": "execute_result"
    }
   ],
   "source": [
    "dframe"
   ]
  },
  {
   "cell_type": "code",
   "execution_count": 16,
   "metadata": {
    "collapsed": true
   },
   "outputs": [],
   "source": [
    "# let's drop entries in index \"c\""
   ]
  },
  {
   "cell_type": "code",
   "execution_count": 18,
   "metadata": {},
   "outputs": [
    {
     "data": {
      "text/html": [
       "<div>\n",
       "<style>\n",
       "    .dataframe thead tr:only-child th {\n",
       "        text-align: right;\n",
       "    }\n",
       "\n",
       "    .dataframe thead th {\n",
       "        text-align: left;\n",
       "    }\n",
       "\n",
       "    .dataframe tbody tr th {\n",
       "        vertical-align: top;\n",
       "    }\n",
       "</style>\n",
       "<table border=\"1\" class=\"dataframe\">\n",
       "  <thead>\n",
       "    <tr style=\"text-align: right;\">\n",
       "      <th></th>\n",
       "      <th>col1</th>\n",
       "      <th>col2</th>\n",
       "      <th>col3</th>\n",
       "      <th>col4</th>\n",
       "      <th>col5</th>\n",
       "    </tr>\n",
       "  </thead>\n",
       "  <tbody>\n",
       "    <tr>\n",
       "      <th>b</th>\n",
       "      <td>-0.331550</td>\n",
       "      <td>0.708939</td>\n",
       "      <td>-1.202948</td>\n",
       "      <td>-0.112843</td>\n",
       "      <td>-0.540862</td>\n",
       "    </tr>\n",
       "    <tr>\n",
       "      <th>c</th>\n",
       "      <td>0.444878</td>\n",
       "      <td>-0.510774</td>\n",
       "      <td>-0.577179</td>\n",
       "      <td>0.000493</td>\n",
       "      <td>2.138209</td>\n",
       "    </tr>\n",
       "    <tr>\n",
       "      <th>d</th>\n",
       "      <td>0.137110</td>\n",
       "      <td>-0.464989</td>\n",
       "      <td>-0.578659</td>\n",
       "      <td>0.513150</td>\n",
       "      <td>0.962889</td>\n",
       "    </tr>\n",
       "    <tr>\n",
       "      <th>e</th>\n",
       "      <td>1.270276</td>\n",
       "      <td>-0.636281</td>\n",
       "      <td>-0.473939</td>\n",
       "      <td>0.573955</td>\n",
       "      <td>-0.990352</td>\n",
       "    </tr>\n",
       "  </tbody>\n",
       "</table>\n",
       "</div>"
      ],
      "text/plain": [
       "       col1      col2      col3      col4      col5\n",
       "b -0.331550  0.708939 -1.202948 -0.112843 -0.540862\n",
       "c  0.444878 -0.510774 -0.577179  0.000493  2.138209\n",
       "d  0.137110 -0.464989 -0.578659  0.513150  0.962889\n",
       "e  1.270276 -0.636281 -0.473939  0.573955 -0.990352"
      ]
     },
     "execution_count": 18,
     "metadata": {},
     "output_type": "execute_result"
    }
   ],
   "source": [
    "dframe.drop('a')"
   ]
  },
  {
   "cell_type": "code",
   "execution_count": 20,
   "metadata": {},
   "outputs": [
    {
     "data": {
      "text/html": [
       "<div>\n",
       "<style>\n",
       "    .dataframe thead tr:only-child th {\n",
       "        text-align: right;\n",
       "    }\n",
       "\n",
       "    .dataframe thead th {\n",
       "        text-align: left;\n",
       "    }\n",
       "\n",
       "    .dataframe tbody tr th {\n",
       "        vertical-align: top;\n",
       "    }\n",
       "</style>\n",
       "<table border=\"1\" class=\"dataframe\">\n",
       "  <thead>\n",
       "    <tr style=\"text-align: right;\">\n",
       "      <th></th>\n",
       "      <th>col2</th>\n",
       "      <th>col3</th>\n",
       "      <th>col4</th>\n",
       "      <th>col5</th>\n",
       "    </tr>\n",
       "  </thead>\n",
       "  <tbody>\n",
       "    <tr>\n",
       "      <th>a</th>\n",
       "      <td>-1.555606</td>\n",
       "      <td>0.350325</td>\n",
       "      <td>0.420281</td>\n",
       "      <td>0.483136</td>\n",
       "    </tr>\n",
       "    <tr>\n",
       "      <th>b</th>\n",
       "      <td>0.708939</td>\n",
       "      <td>-1.202948</td>\n",
       "      <td>-0.112843</td>\n",
       "      <td>-0.540862</td>\n",
       "    </tr>\n",
       "    <tr>\n",
       "      <th>c</th>\n",
       "      <td>-0.510774</td>\n",
       "      <td>-0.577179</td>\n",
       "      <td>0.000493</td>\n",
       "      <td>2.138209</td>\n",
       "    </tr>\n",
       "    <tr>\n",
       "      <th>d</th>\n",
       "      <td>-0.464989</td>\n",
       "      <td>-0.578659</td>\n",
       "      <td>0.513150</td>\n",
       "      <td>0.962889</td>\n",
       "    </tr>\n",
       "    <tr>\n",
       "      <th>e</th>\n",
       "      <td>-0.636281</td>\n",
       "      <td>-0.473939</td>\n",
       "      <td>0.573955</td>\n",
       "      <td>-0.990352</td>\n",
       "    </tr>\n",
       "  </tbody>\n",
       "</table>\n",
       "</div>"
      ],
      "text/plain": [
       "       col2      col3      col4      col5\n",
       "a -1.555606  0.350325  0.420281  0.483136\n",
       "b  0.708939 -1.202948 -0.112843 -0.540862\n",
       "c -0.510774 -0.577179  0.000493  2.138209\n",
       "d -0.464989 -0.578659  0.513150  0.962889\n",
       "e -0.636281 -0.473939  0.573955 -0.990352"
      ]
     },
     "execution_count": 20,
     "metadata": {},
     "output_type": "execute_result"
    }
   ],
   "source": [
    "# to drop entries in columns\n",
    "\n",
    "dframe.drop('col1',axis=1)"
   ]
  },
  {
   "cell_type": "code",
   "execution_count": null,
   "metadata": {
    "collapsed": true
   },
   "outputs": [],
   "source": []
  }
 ],
 "metadata": {
  "kernelspec": {
   "display_name": "Python 3",
   "language": "python",
   "name": "python3"
  },
  "language_info": {
   "codemirror_mode": {
    "name": "ipython",
    "version": 3
   },
   "file_extension": ".py",
   "mimetype": "text/x-python",
   "name": "python",
   "nbconvert_exporter": "python",
   "pygments_lexer": "ipython3",
   "version": "3.6.4"
  }
 },
 "nbformat": 4,
 "nbformat_minor": 2
}
